{
 "cells": [
  {
   "cell_type": "code",
   "execution_count": 2,
   "metadata": {},
   "outputs": [],
   "source": [
    "# Import general useful packages\n",
    "import numpy as np\n",
    "import pandas as pd\n",
    "\n",
    "# Import matplotlib for visualisations\n",
    "import matplotlib.pyplot as plt\n",
    "import matplotlib.cm as cm\n",
    "import seaborn as sns\n",
    "import scikitplot as skplt\n",
    "\n",
    "# Import all machine learning algorithms\n",
    "from sklearn.svm import SVC\n",
    "from sklearn.linear_model import LogisticRegression\n",
    "from sklearn.neighbors import KNeighborsClassifier\n",
    "from sklearn.ensemble import RandomForestClassifier\n",
    "from sklearn.ensemble import GradientBoostingClassifier\n",
    "import xgboost as xgb\n",
    "\n",
    "# Import other useful subpackage\n",
    "from sklearn import model_selection\n",
    "from sklearn.preprocessing import StandardScaler\n",
    "from sklearn.model_selection import StratifiedKFold\n",
    "from sklearn.model_selection import RepeatedStratifiedKFold\n",
    "from sklearn.metrics import confusion_matrix, accuracy_score, classification_report\n",
    "from sklearn.model_selection import GridSearchCV , train_test_split , cross_val_score\n",
    "\n",
    "#ignore warning messages \n",
    "import warnings\n",
    "warnings.filterwarnings('ignore')"
   ]
  },
  {
   "cell_type": "code",
   "execution_count": 3,
   "metadata": {},
   "outputs": [
    {
     "name": "stdout",
     "output_type": "stream",
     "text": [
      "<class 'pandas.core.frame.DataFrame'>\n",
      "RangeIndex: 250 entries, 0 to 249\n",
      "Columns: 302 entries, id to 299\n",
      "dtypes: float64(301), int64(1)\n",
      "memory usage: 590.0 KB\n",
      "None\n",
      "<class 'pandas.core.frame.DataFrame'>\n",
      "RangeIndex: 19750 entries, 0 to 19749\n",
      "Columns: 302 entries, id to 299\n",
      "dtypes: float64(301), int64(1)\n",
      "memory usage: 45.5 MB\n",
      "None\n"
     ]
    }
   ],
   "source": [
    "#Loadning trainning and testing data\n",
    "training_data = pd.read_csv('C:\\\\Users\\\\datacore\\\\OneDrive\\\\Desktop\\\\Interview\\\\Bonamy_finch\\\\Dataset_1.csv')\n",
    "testing_data = pd.read_csv('C:\\\\Users\\\\datacore\\\\OneDrive\\\\Desktop\\\\Interview\\\\Bonamy_finch\\\\Dataset_2.csv')\n",
    "print(training_data.info())\n",
    "print(testing_data.info())"
   ]
  },
  {
   "cell_type": "code",
   "execution_count": 4,
   "metadata": {},
   "outputs": [
    {
     "name": "stdout",
     "output_type": "stream",
     "text": [
      "Training Data: (250, 302)\n",
      "Null values present in training data: False\n",
      "Testing Data: (19750, 302)\n",
      "Null values present in testing data: True\n"
     ]
    }
   ],
   "source": [
    "# For training data\n",
    "print(\"Training Data: {}\".format(training_data.shape))\n",
    "print(\"Null values present in training data: {}\".format(training_data.isnull().values.any()))\n",
    "  \n",
    "# For testing data\n",
    "print(\"Testing Data: {}\".format(testing_data.shape))\n",
    "print(\"Null values present in testing data: {}\".format(testing_data.isnull().values.any()))\n",
    "\n",
    "##Its showing NULL value presents in testing data only due to Target column. So we can ignore."
   ]
  },
  {
   "cell_type": "code",
   "execution_count": 5,
   "metadata": {},
   "outputs": [
    {
     "data": {
      "text/html": [
       "<div>\n",
       "<style scoped>\n",
       "    .dataframe tbody tr th:only-of-type {\n",
       "        vertical-align: middle;\n",
       "    }\n",
       "\n",
       "    .dataframe tbody tr th {\n",
       "        vertical-align: top;\n",
       "    }\n",
       "\n",
       "    .dataframe thead th {\n",
       "        text-align: right;\n",
       "    }\n",
       "</style>\n",
       "<table border=\"1\" class=\"dataframe\">\n",
       "  <thead>\n",
       "    <tr style=\"text-align: right;\">\n",
       "      <th></th>\n",
       "      <th>id</th>\n",
       "      <th>target</th>\n",
       "      <th>0</th>\n",
       "      <th>1</th>\n",
       "      <th>2</th>\n",
       "      <th>3</th>\n",
       "      <th>4</th>\n",
       "      <th>5</th>\n",
       "      <th>6</th>\n",
       "      <th>7</th>\n",
       "      <th>...</th>\n",
       "      <th>290</th>\n",
       "      <th>291</th>\n",
       "      <th>292</th>\n",
       "      <th>293</th>\n",
       "      <th>294</th>\n",
       "      <th>295</th>\n",
       "      <th>296</th>\n",
       "      <th>297</th>\n",
       "      <th>298</th>\n",
       "      <th>299</th>\n",
       "    </tr>\n",
       "  </thead>\n",
       "  <tbody>\n",
       "    <tr>\n",
       "      <td>0</td>\n",
       "      <td>0</td>\n",
       "      <td>1.0</td>\n",
       "      <td>-0.098</td>\n",
       "      <td>2.165</td>\n",
       "      <td>0.681</td>\n",
       "      <td>-0.614</td>\n",
       "      <td>1.309</td>\n",
       "      <td>-0.455</td>\n",
       "      <td>-0.236</td>\n",
       "      <td>0.276</td>\n",
       "      <td>...</td>\n",
       "      <td>0.867</td>\n",
       "      <td>1.347</td>\n",
       "      <td>0.504</td>\n",
       "      <td>-0.649</td>\n",
       "      <td>0.672</td>\n",
       "      <td>-2.097</td>\n",
       "      <td>1.051</td>\n",
       "      <td>-0.414</td>\n",
       "      <td>1.038</td>\n",
       "      <td>-1.065</td>\n",
       "    </tr>\n",
       "    <tr>\n",
       "      <td>1</td>\n",
       "      <td>1</td>\n",
       "      <td>0.0</td>\n",
       "      <td>1.081</td>\n",
       "      <td>-0.973</td>\n",
       "      <td>-0.383</td>\n",
       "      <td>0.326</td>\n",
       "      <td>-0.428</td>\n",
       "      <td>0.317</td>\n",
       "      <td>1.172</td>\n",
       "      <td>0.352</td>\n",
       "      <td>...</td>\n",
       "      <td>-0.165</td>\n",
       "      <td>-1.695</td>\n",
       "      <td>-1.257</td>\n",
       "      <td>1.359</td>\n",
       "      <td>-0.808</td>\n",
       "      <td>-1.624</td>\n",
       "      <td>-0.458</td>\n",
       "      <td>-1.099</td>\n",
       "      <td>-0.936</td>\n",
       "      <td>0.973</td>\n",
       "    </tr>\n",
       "    <tr>\n",
       "      <td>2</td>\n",
       "      <td>2</td>\n",
       "      <td>1.0</td>\n",
       "      <td>-0.523</td>\n",
       "      <td>-0.089</td>\n",
       "      <td>-0.348</td>\n",
       "      <td>0.148</td>\n",
       "      <td>-0.022</td>\n",
       "      <td>0.404</td>\n",
       "      <td>-0.023</td>\n",
       "      <td>-0.172</td>\n",
       "      <td>...</td>\n",
       "      <td>0.013</td>\n",
       "      <td>0.263</td>\n",
       "      <td>-1.222</td>\n",
       "      <td>0.726</td>\n",
       "      <td>1.444</td>\n",
       "      <td>-1.165</td>\n",
       "      <td>-1.544</td>\n",
       "      <td>0.004</td>\n",
       "      <td>0.800</td>\n",
       "      <td>-1.211</td>\n",
       "    </tr>\n",
       "    <tr>\n",
       "      <td>3</td>\n",
       "      <td>3</td>\n",
       "      <td>1.0</td>\n",
       "      <td>0.067</td>\n",
       "      <td>-0.021</td>\n",
       "      <td>0.392</td>\n",
       "      <td>-1.637</td>\n",
       "      <td>-0.446</td>\n",
       "      <td>-0.725</td>\n",
       "      <td>-1.035</td>\n",
       "      <td>0.834</td>\n",
       "      <td>...</td>\n",
       "      <td>-0.404</td>\n",
       "      <td>0.640</td>\n",
       "      <td>-0.595</td>\n",
       "      <td>-0.966</td>\n",
       "      <td>0.900</td>\n",
       "      <td>0.467</td>\n",
       "      <td>-0.562</td>\n",
       "      <td>-0.254</td>\n",
       "      <td>-0.533</td>\n",
       "      <td>0.238</td>\n",
       "    </tr>\n",
       "    <tr>\n",
       "      <td>4</td>\n",
       "      <td>4</td>\n",
       "      <td>1.0</td>\n",
       "      <td>2.347</td>\n",
       "      <td>-0.831</td>\n",
       "      <td>0.511</td>\n",
       "      <td>-0.021</td>\n",
       "      <td>1.225</td>\n",
       "      <td>1.594</td>\n",
       "      <td>0.585</td>\n",
       "      <td>1.509</td>\n",
       "      <td>...</td>\n",
       "      <td>0.898</td>\n",
       "      <td>0.134</td>\n",
       "      <td>2.415</td>\n",
       "      <td>-0.996</td>\n",
       "      <td>-1.006</td>\n",
       "      <td>1.378</td>\n",
       "      <td>1.246</td>\n",
       "      <td>1.478</td>\n",
       "      <td>0.428</td>\n",
       "      <td>0.253</td>\n",
       "    </tr>\n",
       "  </tbody>\n",
       "</table>\n",
       "<p>5 rows × 302 columns</p>\n",
       "</div>"
      ],
      "text/plain": [
       "   id  target      0      1      2      3      4      5      6      7  ...  \\\n",
       "0   0     1.0 -0.098  2.165  0.681 -0.614  1.309 -0.455 -0.236  0.276  ...   \n",
       "1   1     0.0  1.081 -0.973 -0.383  0.326 -0.428  0.317  1.172  0.352  ...   \n",
       "2   2     1.0 -0.523 -0.089 -0.348  0.148 -0.022  0.404 -0.023 -0.172  ...   \n",
       "3   3     1.0  0.067 -0.021  0.392 -1.637 -0.446 -0.725 -1.035  0.834  ...   \n",
       "4   4     1.0  2.347 -0.831  0.511 -0.021  1.225  1.594  0.585  1.509  ...   \n",
       "\n",
       "     290    291    292    293    294    295    296    297    298    299  \n",
       "0  0.867  1.347  0.504 -0.649  0.672 -2.097  1.051 -0.414  1.038 -1.065  \n",
       "1 -0.165 -1.695 -1.257  1.359 -0.808 -1.624 -0.458 -1.099 -0.936  0.973  \n",
       "2  0.013  0.263 -1.222  0.726  1.444 -1.165 -1.544  0.004  0.800 -1.211  \n",
       "3 -0.404  0.640 -0.595 -0.966  0.900  0.467 -0.562 -0.254 -0.533  0.238  \n",
       "4  0.898  0.134  2.415 -0.996 -1.006  1.378  1.246  1.478  0.428  0.253  \n",
       "\n",
       "[5 rows x 302 columns]"
      ]
     },
     "execution_count": 5,
     "metadata": {},
     "output_type": "execute_result"
    }
   ],
   "source": [
    "#training_data.head(5)\n",
    "training_data.head(5)"
   ]
  },
  {
   "cell_type": "code",
   "execution_count": 6,
   "metadata": {},
   "outputs": [
    {
     "name": "stdout",
     "output_type": "stream",
     "text": [
      "1.0    160\n",
      "0.0     90\n",
      "Name: target, dtype: int64\n"
     ]
    },
    {
     "data": {
      "image/png": "[encoded data removed]",
      "text/plain": [
       "<Figure size 432x288 with 1 Axes>"
      ]
     },
     "metadata": {
      "needs_background": "light"
     },
     "output_type": "display_data"
    }
   ],
   "source": [
    "#Distribution of Labels on train data\n",
    "ax = sns.countplot(y=training_data['target'])\n",
    "xx=training_data['target'].value_counts()\n",
    "print(xx)\n",
    "ax.set_title('Distribution of Labels on train data')\n",
    "plt.show()\n",
    "\n",
    "##the target in data set is imbalance. target is binary and has some disbalance: 36% of samples belong to 0 class;"
   ]
  },
  {
   "cell_type": "code",
   "execution_count": 7,
   "metadata": {},
   "outputs": [
    {
     "data": {
      "text/html": [
       "<div>\n",
       "<style scoped>\n",
       "    .dataframe tbody tr th:only-of-type {\n",
       "        vertical-align: middle;\n",
       "    }\n",
       "\n",
       "    .dataframe tbody tr th {\n",
       "        vertical-align: top;\n",
       "    }\n",
       "\n",
       "    .dataframe thead th {\n",
       "        text-align: right;\n",
       "    }\n",
       "</style>\n",
       "<table border=\"1\" class=\"dataframe\">\n",
       "  <thead>\n",
       "    <tr style=\"text-align: right;\">\n",
       "      <th></th>\n",
       "      <th>id</th>\n",
       "      <th>target</th>\n",
       "      <th>0</th>\n",
       "      <th>1</th>\n",
       "      <th>2</th>\n",
       "      <th>3</th>\n",
       "      <th>4</th>\n",
       "      <th>5</th>\n",
       "      <th>6</th>\n",
       "      <th>7</th>\n",
       "      <th>...</th>\n",
       "      <th>290</th>\n",
       "      <th>291</th>\n",
       "      <th>292</th>\n",
       "      <th>293</th>\n",
       "      <th>294</th>\n",
       "      <th>295</th>\n",
       "      <th>296</th>\n",
       "      <th>297</th>\n",
       "      <th>298</th>\n",
       "      <th>299</th>\n",
       "    </tr>\n",
       "  </thead>\n",
       "  <tbody>\n",
       "    <tr>\n",
       "      <td>count</td>\n",
       "      <td>250.000000</td>\n",
       "      <td>250.000000</td>\n",
       "      <td>250.000000</td>\n",
       "      <td>250.000000</td>\n",
       "      <td>250.000000</td>\n",
       "      <td>250.000000</td>\n",
       "      <td>250.000000</td>\n",
       "      <td>250.000000</td>\n",
       "      <td>250.000000</td>\n",
       "      <td>250.000000</td>\n",
       "      <td>...</td>\n",
       "      <td>250.000000</td>\n",
       "      <td>250.000000</td>\n",
       "      <td>250.000000</td>\n",
       "      <td>250.000000</td>\n",
       "      <td>250.000000</td>\n",
       "      <td>250.000000</td>\n",
       "      <td>250.000000</td>\n",
       "      <td>250.000000</td>\n",
       "      <td>250.000000</td>\n",
       "      <td>250.000000</td>\n",
       "    </tr>\n",
       "    <tr>\n",
       "      <td>mean</td>\n",
       "      <td>124.500000</td>\n",
       "      <td>0.640000</td>\n",
       "      <td>0.023292</td>\n",
       "      <td>-0.026872</td>\n",
       "      <td>0.167404</td>\n",
       "      <td>0.001904</td>\n",
       "      <td>0.001588</td>\n",
       "      <td>-0.007304</td>\n",
       "      <td>0.032052</td>\n",
       "      <td>0.078412</td>\n",
       "      <td>...</td>\n",
       "      <td>0.044652</td>\n",
       "      <td>0.126344</td>\n",
       "      <td>0.018436</td>\n",
       "      <td>-0.012092</td>\n",
       "      <td>-0.065720</td>\n",
       "      <td>-0.106112</td>\n",
       "      <td>0.046472</td>\n",
       "      <td>0.006452</td>\n",
       "      <td>0.009372</td>\n",
       "      <td>-0.128952</td>\n",
       "    </tr>\n",
       "    <tr>\n",
       "      <td>std</td>\n",
       "      <td>72.312977</td>\n",
       "      <td>0.480963</td>\n",
       "      <td>0.998354</td>\n",
       "      <td>1.009314</td>\n",
       "      <td>1.021709</td>\n",
       "      <td>1.011751</td>\n",
       "      <td>1.035411</td>\n",
       "      <td>0.955700</td>\n",
       "      <td>1.006657</td>\n",
       "      <td>0.939731</td>\n",
       "      <td>...</td>\n",
       "      <td>1.011416</td>\n",
       "      <td>0.972567</td>\n",
       "      <td>0.954229</td>\n",
       "      <td>0.960630</td>\n",
       "      <td>1.057414</td>\n",
       "      <td>1.038389</td>\n",
       "      <td>0.967661</td>\n",
       "      <td>0.998984</td>\n",
       "      <td>1.008099</td>\n",
       "      <td>0.971219</td>\n",
       "    </tr>\n",
       "    <tr>\n",
       "      <td>min</td>\n",
       "      <td>0.000000</td>\n",
       "      <td>0.000000</td>\n",
       "      <td>-2.319000</td>\n",
       "      <td>-2.931000</td>\n",
       "      <td>-2.477000</td>\n",
       "      <td>-2.359000</td>\n",
       "      <td>-2.566000</td>\n",
       "      <td>-2.845000</td>\n",
       "      <td>-2.976000</td>\n",
       "      <td>-3.444000</td>\n",
       "      <td>...</td>\n",
       "      <td>-2.804000</td>\n",
       "      <td>-2.443000</td>\n",
       "      <td>-2.757000</td>\n",
       "      <td>-2.466000</td>\n",
       "      <td>-3.287000</td>\n",
       "      <td>-3.072000</td>\n",
       "      <td>-2.634000</td>\n",
       "      <td>-2.776000</td>\n",
       "      <td>-3.211000</td>\n",
       "      <td>-3.500000</td>\n",
       "    </tr>\n",
       "    <tr>\n",
       "      <td>25%</td>\n",
       "      <td>62.250000</td>\n",
       "      <td>0.000000</td>\n",
       "      <td>-0.644750</td>\n",
       "      <td>-0.739750</td>\n",
       "      <td>-0.425250</td>\n",
       "      <td>-0.686500</td>\n",
       "      <td>-0.659000</td>\n",
       "      <td>-0.643750</td>\n",
       "      <td>-0.675000</td>\n",
       "      <td>-0.550750</td>\n",
       "      <td>...</td>\n",
       "      <td>-0.617000</td>\n",
       "      <td>-0.510500</td>\n",
       "      <td>-0.535750</td>\n",
       "      <td>-0.657000</td>\n",
       "      <td>-0.818500</td>\n",
       "      <td>-0.821000</td>\n",
       "      <td>-0.605500</td>\n",
       "      <td>-0.751250</td>\n",
       "      <td>-0.550000</td>\n",
       "      <td>-0.754250</td>\n",
       "    </tr>\n",
       "    <tr>\n",
       "      <td>50%</td>\n",
       "      <td>124.500000</td>\n",
       "      <td>1.000000</td>\n",
       "      <td>-0.015500</td>\n",
       "      <td>0.057000</td>\n",
       "      <td>0.184000</td>\n",
       "      <td>-0.016500</td>\n",
       "      <td>-0.023000</td>\n",
       "      <td>0.037500</td>\n",
       "      <td>0.060500</td>\n",
       "      <td>0.183500</td>\n",
       "      <td>...</td>\n",
       "      <td>0.067500</td>\n",
       "      <td>0.091000</td>\n",
       "      <td>0.057500</td>\n",
       "      <td>-0.021000</td>\n",
       "      <td>-0.009000</td>\n",
       "      <td>-0.079500</td>\n",
       "      <td>0.009500</td>\n",
       "      <td>0.005500</td>\n",
       "      <td>-0.009000</td>\n",
       "      <td>-0.132500</td>\n",
       "    </tr>\n",
       "    <tr>\n",
       "      <td>75%</td>\n",
       "      <td>186.750000</td>\n",
       "      <td>1.000000</td>\n",
       "      <td>0.677000</td>\n",
       "      <td>0.620750</td>\n",
       "      <td>0.805000</td>\n",
       "      <td>0.720000</td>\n",
       "      <td>0.735000</td>\n",
       "      <td>0.660500</td>\n",
       "      <td>0.783250</td>\n",
       "      <td>0.766250</td>\n",
       "      <td>...</td>\n",
       "      <td>0.797250</td>\n",
       "      <td>0.804250</td>\n",
       "      <td>0.631500</td>\n",
       "      <td>0.650250</td>\n",
       "      <td>0.739500</td>\n",
       "      <td>0.493000</td>\n",
       "      <td>0.683000</td>\n",
       "      <td>0.794250</td>\n",
       "      <td>0.654250</td>\n",
       "      <td>0.503250</td>\n",
       "    </tr>\n",
       "    <tr>\n",
       "      <td>max</td>\n",
       "      <td>249.000000</td>\n",
       "      <td>1.000000</td>\n",
       "      <td>2.567000</td>\n",
       "      <td>2.419000</td>\n",
       "      <td>3.392000</td>\n",
       "      <td>2.771000</td>\n",
       "      <td>2.901000</td>\n",
       "      <td>2.793000</td>\n",
       "      <td>2.546000</td>\n",
       "      <td>2.846000</td>\n",
       "      <td>...</td>\n",
       "      <td>2.865000</td>\n",
       "      <td>2.801000</td>\n",
       "      <td>2.736000</td>\n",
       "      <td>2.596000</td>\n",
       "      <td>2.226000</td>\n",
       "      <td>3.131000</td>\n",
       "      <td>3.236000</td>\n",
       "      <td>2.626000</td>\n",
       "      <td>3.530000</td>\n",
       "      <td>2.771000</td>\n",
       "    </tr>\n",
       "  </tbody>\n",
       "</table>\n",
       "<p>8 rows × 302 columns</p>\n",
       "</div>"
      ],
      "text/plain": [
       "               id      target           0           1           2           3  \\\n",
       "count  250.000000  250.000000  250.000000  250.000000  250.000000  250.000000   \n",
       "mean   124.500000    0.640000    0.023292   -0.026872    0.167404    0.001904   \n",
       "std     72.312977    0.480963    0.998354    1.009314    1.021709    1.011751   \n",
       "min      0.000000    0.000000   -2.319000   -2.931000   -2.477000   -2.359000   \n",
       "25%     62.250000    0.000000   -0.644750   -0.739750   -0.425250   -0.686500   \n",
       "50%    124.500000    1.000000   -0.015500    0.057000    0.184000   -0.016500   \n",
       "75%    186.750000    1.000000    0.677000    0.620750    0.805000    0.720000   \n",
       "max    249.000000    1.000000    2.567000    2.419000    3.392000    2.771000   \n",
       "\n",
       "                4           5           6           7  ...         290  \\\n",
       "count  250.000000  250.000000  250.000000  250.000000  ...  250.000000   \n",
       "mean     0.001588   -0.007304    0.032052    0.078412  ...    0.044652   \n",
       "std      1.035411    0.955700    1.006657    0.939731  ...    1.011416   \n",
       "min     -2.566000   -2.845000   -2.976000   -3.444000  ...   -2.804000   \n",
       "25%     -0.659000   -0.643750   -0.675000   -0.550750  ...   -0.617000   \n",
       "50%     -0.023000    0.037500    0.060500    0.183500  ...    0.067500   \n",
       "75%      0.735000    0.660500    0.783250    0.766250  ...    0.797250   \n",
       "max      2.901000    2.793000    2.546000    2.846000  ...    2.865000   \n",
       "\n",
       "              291         292         293         294         295         296  \\\n",
       "count  250.000000  250.000000  250.000000  250.000000  250.000000  250.000000   \n",
       "mean     0.126344    0.018436   -0.012092   -0.065720   -0.106112    0.046472   \n",
       "std      0.972567    0.954229    0.960630    1.057414    1.038389    0.967661   \n",
       "min     -2.443000   -2.757000   -2.466000   -3.287000   -3.072000   -2.634000   \n",
       "25%     -0.510500   -0.535750   -0.657000   -0.818500   -0.821000   -0.605500   \n",
       "50%      0.091000    0.057500   -0.021000   -0.009000   -0.079500    0.009500   \n",
       "75%      0.804250    0.631500    0.650250    0.739500    0.493000    0.683000   \n",
       "max      2.801000    2.736000    2.596000    2.226000    3.131000    3.236000   \n",
       "\n",
       "              297         298         299  \n",
       "count  250.000000  250.000000  250.000000  \n",
       "mean     0.006452    0.009372   -0.128952  \n",
       "std      0.998984    1.008099    0.971219  \n",
       "min     -2.776000   -3.211000   -3.500000  \n",
       "25%     -0.751250   -0.550000   -0.754250  \n",
       "50%      0.005500   -0.009000   -0.132500  \n",
       "75%      0.794250    0.654250    0.503250  \n",
       "max      2.626000    3.530000    2.771000  \n",
       "\n",
       "[8 rows x 302 columns]"
      ]
     },
     "execution_count": 7,
     "metadata": {},
     "output_type": "execute_result"
    }
   ],
   "source": [
    "# Univariate Analysis\n",
    "training_data.describe()"
   ]
  },
  {
   "cell_type": "code",
   "execution_count": 8,
   "metadata": {},
   "outputs": [
    {
     "data": {
      "image/png": "[encoded data removed]",
      "text/plain": [
       "<Figure size 432x288 with 1 Axes>"
      ]
     },
     "metadata": {
      "needs_background": "light"
     },
     "output_type": "display_data"
    }
   ],
   "source": [
    "#Distribution of means of all columns\n",
    "training_data[training_data.columns[2:]].mean().plot('hist');\n",
    "plt.title('Distribution of means of all columns');"
   ]
  },
  {
   "cell_type": "code",
   "execution_count": 9,
   "metadata": {},
   "outputs": [
    {
     "data": {
      "text/html": [
       "<div>\n",
       "<style scoped>\n",
       "    .dataframe tbody tr th:only-of-type {\n",
       "        vertical-align: middle;\n",
       "    }\n",
       "\n",
       "    .dataframe tbody tr th {\n",
       "        vertical-align: top;\n",
       "    }\n",
       "\n",
       "    .dataframe thead th {\n",
       "        text-align: right;\n",
       "    }\n",
       "</style>\n",
       "<table border=\"1\" class=\"dataframe\">\n",
       "  <thead>\n",
       "    <tr style=\"text-align: right;\">\n",
       "      <th></th>\n",
       "      <th>level_0</th>\n",
       "      <th>level_1</th>\n",
       "      <th>0</th>\n",
       "    </tr>\n",
       "  </thead>\n",
       "  <tbody>\n",
       "    <tr>\n",
       "      <td>90892</td>\n",
       "      <td>22</td>\n",
       "      <td>28</td>\n",
       "      <td>0.246062</td>\n",
       "    </tr>\n",
       "    <tr>\n",
       "      <td>90893</td>\n",
       "      <td>28</td>\n",
       "      <td>22</td>\n",
       "      <td>0.246062</td>\n",
       "    </tr>\n",
       "    <tr>\n",
       "      <td>90894</td>\n",
       "      <td>193</td>\n",
       "      <td>101</td>\n",
       "      <td>0.252825</td>\n",
       "    </tr>\n",
       "    <tr>\n",
       "      <td>90895</td>\n",
       "      <td>101</td>\n",
       "      <td>193</td>\n",
       "      <td>0.252825</td>\n",
       "    </tr>\n",
       "    <tr>\n",
       "      <td>90896</td>\n",
       "      <td>75</td>\n",
       "      <td>32</td>\n",
       "      <td>0.259315</td>\n",
       "    </tr>\n",
       "    <tr>\n",
       "      <td>90897</td>\n",
       "      <td>32</td>\n",
       "      <td>75</td>\n",
       "      <td>0.259315</td>\n",
       "    </tr>\n",
       "    <tr>\n",
       "      <td>90898</td>\n",
       "      <td>target</td>\n",
       "      <td>65</td>\n",
       "      <td>0.293846</td>\n",
       "    </tr>\n",
       "    <tr>\n",
       "      <td>90899</td>\n",
       "      <td>65</td>\n",
       "      <td>target</td>\n",
       "      <td>0.293846</td>\n",
       "    </tr>\n",
       "    <tr>\n",
       "      <td>90900</td>\n",
       "      <td>33</td>\n",
       "      <td>target</td>\n",
       "      <td>0.373608</td>\n",
       "    </tr>\n",
       "    <tr>\n",
       "      <td>90901</td>\n",
       "      <td>target</td>\n",
       "      <td>33</td>\n",
       "      <td>0.373608</td>\n",
       "    </tr>\n",
       "  </tbody>\n",
       "</table>\n",
       "</div>"
      ],
      "text/plain": [
       "      level_0 level_1         0\n",
       "90892      22      28  0.246062\n",
       "90893      28      22  0.246062\n",
       "90894     193     101  0.252825\n",
       "90895     101     193  0.252825\n",
       "90896      75      32  0.259315\n",
       "90897      32      75  0.259315\n",
       "90898  target      65  0.293846\n",
       "90899      65  target  0.293846\n",
       "90900      33  target  0.373608\n",
       "90901  target      33  0.373608"
      ]
     },
     "execution_count": 9,
     "metadata": {},
     "output_type": "execute_result"
    }
   ],
   "source": [
    "#Correlation Check (Multicolinearity)\n",
    "corrs = training_data.corr().abs().unstack().sort_values(kind=\"quicksort\").reset_index()\n",
    "corrs = corrs[corrs['level_0'] != corrs['level_1']]\n",
    "corrs.tail(10)"
   ]
  },
  {
   "cell_type": "code",
   "execution_count": 10,
   "metadata": {},
   "outputs": [],
   "source": [
    "#We can see that correlations between features are lower that 0.3 and the most correlated feature with target \n",
    "#has correlation of 0.37. So we have no highly correlated features which we could drop, \n",
    "#on the other hand we could drop some columns with have little correlation with the target."
   ]
  },
  {
   "cell_type": "code",
   "execution_count": 11,
   "metadata": {},
   "outputs": [],
   "source": [
    "#To split the Features and Target values of both Training and Test dataset\n",
    "# Get X and y for training data\n",
    "y_train = training_data['target']\n",
    "X_train = training_data.drop(columns = ['target', 'id'])\n",
    "\n",
    "# Get X and y for testing data\n",
    "y_test = testing_data['target'] # it is blank, but have to remove from X_test\n",
    "X_test = testing_data.drop(columns = ['target', 'id'])"
   ]
  },
  {
   "cell_type": "code",
   "execution_count": 12,
   "metadata": {},
   "outputs": [],
   "source": [
    "#K-fold stratified cross validation on Dataset1 to check over fitting...\n",
    "n_fold = 10\n",
    "folds = StratifiedKFold(n_splits=n_fold, shuffle=True, random_state=42)\n",
    "repeated_folds = RepeatedStratifiedKFold(n_splits=20, n_repeats=20, random_state=42)"
   ]
  },
  {
   "cell_type": "code",
   "execution_count": 13,
   "metadata": {},
   "outputs": [],
   "source": [
    "#Standardize features by removing the mean and scaling to unit variance\n",
    "scaler=StandardScaler()\n",
    "X_train=scaler.fit_transform(X_train)\n",
    "X_test=scaler.fit_transform(X_test)"
   ]
  },
  {
   "cell_type": "code",
   "execution_count": 14,
   "metadata": {},
   "outputs": [
    {
     "name": "stdout",
     "output_type": "stream",
     "text": [
      "Fitting 10 folds for each of 28 candidates, totalling 280 fits\n"
     ]
    },
    {
     "name": "stderr",
     "output_type": "stream",
     "text": [
      "[Parallel(n_jobs=-1)]: Using backend LokyBackend with 4 concurrent workers.\n",
      "[Parallel(n_jobs=-1)]: Done  71 tasks      | elapsed:    4.9s\n",
      "[Parallel(n_jobs=-1)]: Done 280 out of 280 | elapsed:    6.1s finished\n"
     ]
    },
    {
     "name": "stdout",
     "output_type": "stream",
     "text": [
      "Best Score:0.804861111111111\n",
      "Best Parameters: {'C': 0.1, 'class_weight': 'balanced', 'penalty': 'l1'}\n",
      "[0.91666667 0.59027778 0.61111111 0.98611111 0.82638889 0.85416667\n",
      " 0.90277778 0.74305556 0.75694444 0.83333333]\n",
      "Mean cv Score 0.8020833333333334\n",
      "Score on training data: 87.6%\n"
     ]
    }
   ],
   "source": [
    "#Cross Validation to reduce overfitting of the data\n",
    "#Appling Logistic regression for binary classification\n",
    "#for small samples set, So better to limited yourself to linear models.\n",
    "\n",
    "random_state = 42\n",
    "lr_clf = LogisticRegression(random_state = random_state, solver='liblinear', max_iter=1000)\n",
    "param_grid = {'class_weight' : ['balanced', None], \n",
    "                'penalty' : ['l2','l1'],  \n",
    "                'C' : [0.001, 0.01, 0.1, 1, 10, 100, 1000]}\n",
    "\n",
    "#Find best hyperparameters using GridSearchCV (roc_auc)\n",
    "grid_lr = GridSearchCV(estimator = lr_clf, param_grid = param_grid , cv=folds, scoring = 'roc_auc', verbose = 1, n_jobs = -1)\n",
    "grid_lr.fit(X_train,y_train)\n",
    "\n",
    "print(\"Best Score:\" + str(grid_lr.best_score_))\n",
    "print(\"Best Parameters: \" + str(grid_lr.best_params_))\n",
    "\n",
    "#model with best parameters\n",
    "model_lr=LogisticRegression(class_weight='balanced', solver='liblinear', penalty ='l1', C= 0.1, max_iter=10000)\n",
    "model_lr.fit(X_train,y_train)\n",
    "# To Cross validate and remodel it with less features\n",
    "# cv - number of runs to find cross validated model\n",
    "\n",
    "#Score of each cross validation score\n",
    "scores_lr = model_selection.cross_val_score(model_lr,X_train,y_train,scoring=\"roc_auc\",cv=10)\n",
    "print(scores_lr) # moreover consistance score for flods\n",
    "scores_lr = np.mean(scores_lr)\n",
    "print('Mean cv Score',scores_lr)\n",
    "print(\"Score on training data: \" + str(model_lr.score(X_train,y_train)*100) + \"%\")"
   ]
  },
  {
   "cell_type": "code",
   "execution_count": 15,
   "metadata": {},
   "outputs": [
    {
     "name": "stdout",
     "output_type": "stream",
     "text": [
      "Best score: 0.788888888888889\n",
      "Best parameters: {'C': 10.0, 'kernel': 'rbf'}\n",
      "[0.81944444 0.65277778 0.67361111 0.75       0.88194444 0.63194444\n",
      " 0.79861111 0.71527778 0.72916667 0.81944444]\n",
      "Mean cv Score 0.7472222222222222\n",
      "Score on training data: 100.0%\n"
     ]
    }
   ],
   "source": [
    "# tring to apply various classification algorithmns to check wheather gerring consistance CV scores\n",
    "from sklearn.svm import SVC\n",
    "svc = SVC(probability=True, gamma='scale')\n",
    "\n",
    "parameter_grid = {'C': [0.001, 0.01, 0.1, 1.0, 10.0],\n",
    "                  'kernel': ['linear', 'poly', 'rbf'],\n",
    "                 }\n",
    "\n",
    "grid_search_svc = GridSearchCV(svc, param_grid=parameter_grid, cv=folds, scoring='roc_auc', n_jobs=-1)\n",
    "grid_search_svc.fit(X_train, y_train)\n",
    "print('Best score: {}'.format(grid_search_svc.best_score_))\n",
    "print('Best parameters: {}'.format(grid_search_svc.best_params_))\n",
    "\n",
    "model_svc = SVC(probability=True, gamma='scale', **grid_search_svc.best_params_)\n",
    "model_svc.fit(X_train,y_train)\n",
    "\n",
    "#Cross Validation to reduce overfitting of the data\n",
    "scores_svc = model_selection.cross_val_score(model_svc,X_train,y_train,scoring=\"roc_auc\",cv=10)\n",
    "print(scores_svc)   #less consistance than LR\n",
    "scores_svc = np.mean(scores_svc)\n",
    "print('Mean cv Score',scores_svc)\n",
    "print(\"Score on training data: \" + str(model_svc.score(X_train,y_train)*100) + \"%\")"
   ]
  },
  {
   "cell_type": "code",
   "execution_count": 16,
   "metadata": {},
   "outputs": [
    {
     "name": "stdout",
     "output_type": "stream",
     "text": [
      "Best score: 0.6333333333333334\n",
      "Best parameters: {'leaf_size': 5, 'n_neighbors': 10, 'weights': 'distance'}\n",
      "[0.77777778 0.61111111 0.63194444 0.47222222 0.65277778 0.52777778\n",
      " 0.68055556 0.5        0.5        0.72916667]\n",
      "Mean cv Score 0.6083333333333333\n",
      "Score on training data: 100.0%\n"
     ]
    }
   ],
   "source": [
    "#lets check another one\n",
    "from sklearn.neighbors import KNeighborsClassifier\n",
    "knc = KNeighborsClassifier()\n",
    "\n",
    "parameter_grid = {'n_neighbors': [2, 3, 5, 10, 20],\n",
    "                  'weights': ['uniform', 'distance'],\n",
    "                  'leaf_size': [5, 10, 30]\n",
    "                 }\n",
    "\n",
    "grid_search_knc = GridSearchCV(knc, param_grid=parameter_grid, cv=folds, scoring='roc_auc', n_jobs=-1)\n",
    "grid_search_knc.fit(X_train, y_train)\n",
    "print('Best score: {}'.format(grid_search_knc.best_score_))\n",
    "print('Best parameters: {}'.format(grid_search_knc.best_params_))\n",
    "\n",
    "model_knn = KNeighborsClassifier(**grid_search_knc.best_params_)\n",
    "model_knn.fit(X_train,y_train)\n",
    "\n",
    "#Cross Validation to reduce overfitting of the data\n",
    "scores_knn = model_selection.cross_val_score(model_knn,X_train,y_train,scoring=\"roc_auc\",cv=10)\n",
    "print(scores_knn) #scores are less compare to above two algorithms\n",
    "scores_knn = np.mean(scores_knn)\n",
    "print('Mean cv Score',scores_knn)\n",
    "print(\"Score on training data: \" + str(model_knn.score(X_train,y_train)*100) + \"%\")"
   ]
  },
  {
   "cell_type": "code",
   "execution_count": 17,
   "metadata": {},
   "outputs": [
    {
     "name": "stdout",
     "output_type": "stream",
     "text": [
      "Best score: 0.7614583333333333\n",
      "Best parameters: {'max_depth': None, 'n_estimators': 1000}\n",
      "[0.61458333 0.59722222 0.71527778 0.77083333 0.86111111 0.66319444\n",
      " 0.81597222 0.75694444 0.64583333 0.63888889]\n",
      "Mean cv Score 0.7079861111111112\n",
      "Score on training data: 100.0%\n"
     ]
    }
   ],
   "source": [
    "## for small samples set, using non linear models that RF, GBM or XGB, thats not gonna work. \n",
    "## But still appling ensemble learning algorithm (Bagging and Boosting)\n",
    "from sklearn.ensemble import RandomForestClassifier\n",
    "rfc = RandomForestClassifier()\n",
    "\n",
    "parameter_grid = {'n_estimators': [10, 50, 100, 1000],\n",
    "                  'max_depth': [None, 3, 5, 15]\n",
    "                 }\n",
    "\n",
    "grid_rf = GridSearchCV(rfc, param_grid=parameter_grid, cv=folds, scoring='roc_auc', n_jobs=-1)\n",
    "grid_rf.fit(X_train, y_train)\n",
    "print('Best score: {}'.format(grid_rf.best_score_))\n",
    "print('Best parameters: {}'.format(grid_rf.best_params_))\n",
    "\n",
    "model_rfc = RandomForestClassifier(**grid_rf.best_params_)\n",
    "model_rfc.fit(X_train,y_train)\n",
    "\n",
    "#Cross Validation to reduce overfitting of the data\n",
    "scores_rf = model_selection.cross_val_score(model_rfc,X_train,y_train,scoring=\"roc_auc\",cv=10)\n",
    "print(scores_rf)\n",
    "scores_rf = np.mean(scores_rf)\n",
    "print('Mean cv Score',scores_rf)\n",
    "print(\"Score on training data: \" + str(model_rfc.score(X_train,y_train)*100) + \"%\")"
   ]
  },
  {
   "cell_type": "code",
   "execution_count": 18,
   "metadata": {},
   "outputs": [
    {
     "name": "stdout",
     "output_type": "stream",
     "text": [
      "Best score: 0.7194444444444444\n",
      "Best parameters: {'learning_rate': 0.1, 'n_estimators': 20}\n",
      "[0.81597222 0.56597222 0.62847222 0.84027778 0.67708333 0.72222222\n",
      " 0.84027778 0.60763889 0.68055556 0.73611111]\n",
      "Mean cv Score 0.7114583333333332\n",
      "Score on training data: 77.2%\n"
     ]
    }
   ],
   "source": [
    "from sklearn.ensemble import AdaBoostClassifier\n",
    "abc = AdaBoostClassifier()\n",
    "\n",
    "parameter_grid = {'n_estimators': [5, 10, 20, 50, 100],\n",
    "                  'learning_rate': [0.001, 0.01, 0.1, 1.0, 10.0]\n",
    "                 }\n",
    "\n",
    "grid_search_abc = GridSearchCV(abc, param_grid=parameter_grid, cv=folds, scoring='roc_auc')\n",
    "grid_search_abc.fit(X_train, y_train)\n",
    "print('Best score: {}'.format(grid_search_abc.best_score_))\n",
    "print('Best parameters: {}'.format(grid_search_abc.best_params_))\n",
    "\n",
    "model_abc = AdaBoostClassifier(**grid_search_abc.best_params_)\n",
    "model_abc.fit(X_train,y_train)\n",
    "\n",
    "#Cross Validation to reduce overfitting of the data\n",
    "scores_abc = model_selection.cross_val_score(model_abc,X_train,y_train,scoring=\"roc_auc\",cv=10)   \n",
    "print(scores_abc)\n",
    "scores_abc = np.mean(scores_abc)\n",
    "print('Mean cv Score',scores_abc)\n",
    "print(\"Score on training data: \" + str(model_abc.score(X_train,y_train)*100) + \"%\")"
   ]
  },
  {
   "cell_type": "code",
   "execution_count": 19,
   "metadata": {},
   "outputs": [
    {
     "name": "stdout",
     "output_type": "stream",
     "text": [
      "  Algorithm     Score\n",
      "0        LR  0.802083\n",
      "1       SVC  0.747222\n",
      "2       KNC  0.608333\n",
      "3       RFC  0.707986\n",
      "4       ABC  0.711458\n"
     ]
    },
    {
     "data": {
      "text/plain": [
       "Text(0.5, 1.0, 'CV_Score of various algorithms')"
      ]
     },
     "execution_count": 19,
     "metadata": {},
     "output_type": "execute_result"
    },
    {
     "data": {
      "image/png": "[encoded data removed]",
      "text/plain": [
       "<Figure size 432x288 with 1 Axes>"
      ]
     },
     "metadata": {
      "needs_background": "light"
     },
     "output_type": "display_data"
    }
   ],
   "source": [
    "## CV_Score of various algorithms (Bar plot)\n",
    "df = pd.DataFrame({'Algorithm':['LR','SVC','KNC','RFC', 'ABC'],\n",
    "                   'Score':[scores_lr,scores_svc,scores_knn,scores_rf,scores_abc]})\n",
    "print(df)\n",
    "CV_Scores  = df['Score']\n",
    "colors = cm.rainbow(np.linspace(0, 2, 9))\n",
    "#labels = ['LogisticRegression','SVC','KNeighborsClassifier','RandomForestClassifier', 'AdaBoostClassifier']\n",
    "labels = df['Algorithm']\n",
    "\n",
    "plt.bar(labels,\n",
    "        CV_Scores,\n",
    "        color = colors)\n",
    "plt.xlabel('Classifiers')\n",
    "plt.ylabel('CV_Scores')\n",
    "plt.title('CV_Score of various algorithms')"
   ]
  },
  {
   "cell_type": "code",
   "execution_count": 20,
   "metadata": {},
   "outputs": [
    {
     "data": {
      "image/png": "[encoded data removed]",
      "text/plain": [
       "<Figure size 720x360 with 1 Axes>"
      ]
     },
     "metadata": {
      "needs_background": "light"
     },
     "output_type": "display_data"
    }
   ],
   "source": [
    "## CV_Score of various algorithms (Box-Plot)\n",
    "plt.figure(figsize=(10, 5));\n",
    "scores_df1 = pd.DataFrame({'LogisticRegression': [scores_lr]})\n",
    "scores_df2 = pd.DataFrame({'AdaBoostClassifier': [scores_abc]})\n",
    "scores_df3 = pd.DataFrame({'SVC': [scores_svc]})\n",
    "scores_df4 = pd.DataFrame({'KNeighborsClassifier': [scores_knn]})\n",
    "scores_df5 = pd.DataFrame({'RandomForestClassifier': [scores_rf]})\n",
    "df = scores_df1.append([scores_df2, scores_df3, scores_df4, scores_df5],  ignore_index=True)\n",
    "sns.boxplot(data=df);\n",
    "plt.xticks(rotation=25);"
   ]
  },
  {
   "cell_type": "code",
   "execution_count": 21,
   "metadata": {},
   "outputs": [],
   "source": [
    "#We can see that logistic regression is superior to most other models. \n",
    "#It seems that other models either overfit or can't work on this small dataset."
   ]
  },
  {
   "cell_type": "code",
   "execution_count": 22,
   "metadata": {},
   "outputs": [],
   "source": [
    "##Furure scope::\n",
    "#  1. can check with other algorithms like Naive Bayes, extratree classifier, SGDClassifier etc  and compare CV scores\n",
    "#  2. feature selection (variable reduction) "
   ]
  },
  {
   "cell_type": "code",
   "execution_count": 23,
   "metadata": {},
   "outputs": [],
   "source": [
    "## Now I am going to split trainning data set (250 observations) by 80/20 set \n",
    "#and training model on 80 % randon sample and predicting on 20% sample to check model accuracy"
   ]
  },
  {
   "cell_type": "code",
   "execution_count": 24,
   "metadata": {},
   "outputs": [],
   "source": [
    "# Spliting data (80/20)\n",
    "y = training_data['target']\n",
    "X = training_data.drop(columns = ['target', 'id'])\n",
    "from sklearn.model_selection import train_test_split\n",
    "X_train_new, X_test_new, y_train_new, y_test_new = train_test_split(X, y, test_size = 0.2, random_state = 3)"
   ]
  },
  {
   "cell_type": "code",
   "execution_count": 25,
   "metadata": {},
   "outputs": [
    {
     "name": "stdout",
     "output_type": "stream",
     "text": [
      "Support Vector Classifier accuracy: 62.0%\n",
      "Logistic Regression accuracy: 70.0%\n",
      "K Nearest Neighbors Classifier accuracy: 62.0%\n",
      "Random Forest Classifier accuracy: 62.0%\n",
      "Gradient Boosting Classifier accuracy: 74.0%\n",
      "XGBoost Classifier accuracy: 76.0%\n"
     ]
    }
   ],
   "source": [
    "# Applying various Classification algorithms without doing variable reductions\n",
    "accuracy_scores = np.zeros(6)\n",
    "\n",
    "# Support Vector Classifier\n",
    "clf_svc = SVC().fit(X_train_new, y_train_new)\n",
    "prediction1 = clf_svc.predict(X_test_new)\n",
    "accuracy_scores[0] = accuracy_score(y_test_new, prediction1)*100\n",
    "print('Support Vector Classifier accuracy: {}%'.format(accuracy_scores[0]))\n",
    "\n",
    "# Logistic Regression\n",
    "clf_lr = LogisticRegression(class_weight = 'balanced').fit(X_train_new, y_train_new)\n",
    "prediction2 = clf_lr.predict(X_test_new)\n",
    "accuracy_scores[1] = accuracy_score(y_test_new, prediction2)*100\n",
    "print('Logistic Regression accuracy: {}%'.format(accuracy_scores[1]))\n",
    "\n",
    "# K Nearest Neighbors\n",
    "clf_knn = KNeighborsClassifier( ).fit(X_train_new, y_train_new)\n",
    "prediction3 = clf_knn.predict(X_test_new)\n",
    "accuracy_scores[2] = accuracy_score(y_test_new, prediction3)*100\n",
    "print('K Nearest Neighbors Classifier accuracy: {}%'.format(accuracy_scores[2]))\n",
    "\n",
    "# Random Forest\n",
    "clf_rf = RandomForestClassifier(class_weight = 'balanced').fit(X_train_new, y_train_new)\n",
    "prediction4 = clf_rf.predict(X_test_new)\n",
    "accuracy_scores[3] = accuracy_score(y_test_new, prediction4)*100\n",
    "print('Random Forest Classifier accuracy: {}%'.format(accuracy_scores[3]))\n",
    "\n",
    "# Gradient Boosting\n",
    "clf_gb = GradientBoostingClassifier().fit(X_train_new, y_train_new)\n",
    "prediction5 = clf_gb.predict(X_test_new)\n",
    "accuracy_scores[4] = accuracy_score(y_test_new, prediction5)*100\n",
    "print('Gradient Boosting Classifier accuracy: {}%'.format(accuracy_scores[4]))\n",
    "\n",
    "#XGBoosting\n",
    "xgb_model = xgb.XGBClassifier() # 160/90 = 1.88\n",
    "xgb_model.fit(X_train_new, y_train_new)\n",
    "prediction6 = xgb_model.predict(X_test_new)\n",
    "accuracy_scores[5] = accuracy_score(y_test_new, prediction6)*100\n",
    "print('XGBoost Classifier accuracy: {}%'.format(accuracy_scores[5]))"
   ]
  },
  {
   "cell_type": "code",
   "execution_count": 26,
   "metadata": {},
   "outputs": [],
   "source": [
    "#Here accuracy is higher for Gradient Boosting and XGB classifier \n",
    "#but based on bellow confusion matrix, Misclassification error is less for Logistic Regression\n",
    "# So, Finally selecting Logistic Regression as a final model and going to use LR for prediction"
   ]
  },
  {
   "cell_type": "code",
   "execution_count": 27,
   "metadata": {},
   "outputs": [
    {
     "name": "stdout",
     "output_type": "stream",
     "text": [
      "[[ 0 19]\n",
      " [ 0 31]]\n",
      "[[10  9]\n",
      " [ 6 25]]\n",
      "[[ 9 10]\n",
      " [ 9 22]]\n",
      "[[ 0 19]\n",
      " [ 0 31]]\n",
      "[[ 7 12]\n",
      " [ 1 30]]\n",
      "[[ 8 11]\n",
      " [ 1 30]]\n"
     ]
    }
   ],
   "source": [
    "# Confusion Matrix for above all models\n",
    "from sklearn.metrics import confusion_matrix\n",
    "conf1 = confusion_matrix(y_test_new, prediction1)\n",
    "print(conf1)\n",
    "conf2 = confusion_matrix(y_test_new, prediction2)\n",
    "print(conf2)\n",
    "conf3 = confusion_matrix(y_test_new, prediction3)\n",
    "print(conf3)\n",
    "conf4 = confusion_matrix(y_test_new, prediction4)\n",
    "print(conf4)\n",
    "conf5 = confusion_matrix(y_test_new, prediction5)\n",
    "print(conf5)\n",
    "conf6 = confusion_matrix(y_test_new, prediction6)\n",
    "print(conf6)"
   ]
  },
  {
   "cell_type": "code",
   "execution_count": 28,
   "metadata": {},
   "outputs": [
    {
     "name": "stdout",
     "output_type": "stream",
     "text": [
      "              precision    recall  f1-score   support\n",
      "\n",
      "         0.0       0.62      0.53      0.57        19\n",
      "         1.0       0.74      0.81      0.77        31\n",
      "\n",
      "    accuracy                           0.70        50\n",
      "   macro avg       0.68      0.67      0.67        50\n",
      "weighted avg       0.69      0.70      0.69        50\n",
      "\n"
     ]
    },
    {
     "data": {
      "image/png": "[encoded data removed]",
      "text/plain": [
       "<Figure size 720x576 with 2 Axes>"
      ]
     },
     "metadata": {
      "needs_background": "light"
     },
     "output_type": "display_data"
    }
   ],
   "source": [
    "# check validation statistics (Classification Summary)\n",
    "print(classification_report(y_test_new, prediction2)) # from confusion matrix Logistic perform well without variable reduction\n",
    "# Plot confusion Matrix\n",
    "skplt.metrics.plot_confusion_matrix(y_test_new, prediction2, figsize=(10, 8))\n",
    "plt.show()"
   ]
  },
  {
   "cell_type": "code",
   "execution_count": 29,
   "metadata": {},
   "outputs": [
    {
     "data": {
      "image/png": "[encoded data removed]",
      "text/plain": [
       "<Figure size 720x576 with 1 Axes>"
      ]
     },
     "metadata": {
      "needs_background": "light"
     },
     "output_type": "display_data"
    }
   ],
   "source": [
    "# ROC Curves\n",
    "y_probas = clf_lr.predict_proba(X_test_new)\n",
    "skplt.metrics.plot_roc(y_test_new, y_probas, figsize=(10, 8))   # Plot ROC Curve\n",
    "plt.show()\n",
    "\n",
    "## test sample is too small so ROC curve is little bit as expected."
   ]
  },
  {
   "cell_type": "code",
   "execution_count": 32,
   "metadata": {},
   "outputs": [
    {
     "name": "stdout",
     "output_type": "stream",
     "text": [
      "[1. 0. 1. ... 0. 1. 0.]\n",
      "          id  target\n",
      "0        250     1.0\n",
      "1        251     0.0\n",
      "2        252     1.0\n",
      "3        253     1.0\n",
      "4        254     0.0\n",
      "...      ...     ...\n",
      "19745  19995     1.0\n",
      "19746  19996     1.0\n",
      "19747  19997     0.0\n",
      "19748  19998     1.0\n",
      "19749  19999     0.0\n",
      "\n",
      "[19750 rows x 2 columns]\n",
      "       Probability for 0  Probability for 1\n",
      "0               0.333093           0.666907\n",
      "1               0.530152           0.469848\n",
      "2               0.484514           0.515486\n",
      "3               0.247406           0.752594\n",
      "4               0.573711           0.426289\n",
      "...                  ...                ...\n",
      "19745           0.480407           0.519593\n",
      "19746           0.088261           0.911739\n",
      "19747           0.717031           0.282969\n",
      "19748           0.223319           0.776681\n",
      "19749           0.770033           0.229967\n",
      "\n",
      "[19750 rows x 2 columns]\n",
      "          id    target\n",
      "0        250  0.666907\n",
      "1        251  0.469848\n",
      "2        252  0.515486\n",
      "3        253  0.752594\n",
      "4        254  0.426289\n",
      "...      ...       ...\n",
      "19745  19995  0.519593\n",
      "19746  19996  0.911739\n",
      "19747  19997  0.282969\n",
      "19748  19998  0.776681\n",
      "19749  19999  0.229967\n",
      "\n",
      "[19750 rows x 2 columns]\n"
     ]
    }
   ],
   "source": [
    "#Prediction on test data\n",
    "prediction = model_lr.predict(X_test)\n",
    "print(prediction)\n",
    "prediction_prob = model_lr.predict_proba(X_test)\n",
    "#print(prediction_prob)\n",
    "\n",
    "predictions_df = pd.DataFrame(prediction)\n",
    "predictions_df.rename(columns={0:'target'}, inplace=True)\n",
    "result = pd.concat([testing_data['id'], predictions_df], axis=1)\n",
    "print(result)\n",
    "\n",
    "predictions_df_prob = pd.DataFrame(prediction_prob)\n",
    "predictions_df_prob.rename(columns={0:'Probability for 0', 1: 'Probability for 1'}, inplace=True)\n",
    "print(predictions_df_prob)\n",
    "result3 = pd.concat([testing_data['id'], predictions_df_prob['Probability for 1']], axis=1)\n",
    "result3.rename(columns={'Probability for 1':'target'}, inplace=True)\n",
    "print(result3)\n",
    "#result.to_csv('C:\\\\Users\\\\datacore\\\\OneDrive\\\\Desktop\\\\Interview\\\\Bonamy_finch\\\\Prediction.csv', index=False)"
   ]
  },
  {
   "cell_type": "code",
   "execution_count": 31,
   "metadata": {},
   "outputs": [],
   "source": [
    "## End of code"
   ]
  }
 ],
 "metadata": {
  "kernelspec": {
   "display_name": "Python 3",
   "language": "python",
   "name": "python3"
  },
  "language_info": {
   "codemirror_mode": {
    "name": "ipython",
    "version": 3
   },
   "file_extension": ".py",
   "mimetype": "text/x-python",
   "name": "python",
   "nbconvert_exporter": "python",
   "pygments_lexer": "ipython3",
   "version": "3.7.3"
  }
 },
 "nbformat": 4,
 "nbformat_minor": 2
}
